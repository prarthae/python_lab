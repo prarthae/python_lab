{
 "cells": [
  {
   "cell_type": "markdown",
   "id": "359ff0d3",
   "metadata": {},
   "source": [
    "# Arithmatic Operations"
   ]
  },
  {
   "cell_type": "code",
   "execution_count": 1,
   "id": "d9bfdec8",
   "metadata": {},
   "outputs": [
    {
     "name": "stdout",
     "output_type": "stream",
     "text": [
      "Sum            :  31\n",
      "Difference     :  23\n",
      "Product        :  108\n",
      "Division       :  6.75\n",
      "Floor Division :  6\n",
      "Power          :  531441\n",
      "Modulus        :  3\n"
     ]
    }
   ],
   "source": [
    "x,y=27,4\n",
    "\n",
    "print(\"Sum            : \",x+y)\n",
    "print(\"Difference     : \",x-y)\n",
    "print(\"Product        : \",x*y)\n",
    "print(\"Division       : \",x/y)\n",
    "print(\"Floor Division : \",x//y)\n",
    "print(\"Power          : \",x**y)\n",
    "print(\"Modulus        : \",x%y)"
   ]
  },
  {
   "cell_type": "markdown",
   "id": "64d2ac7e",
   "metadata": {},
   "source": [
    "# Comparison Operations"
   ]
  },
  {
   "cell_type": "code",
   "execution_count": 2,
   "id": "c4076e27",
   "metadata": {},
   "outputs": [
    {
     "name": "stdout",
     "output_type": "stream",
     "text": [
      "True\n",
      "True\n",
      "False\n",
      "False\n",
      "False\n",
      "True\n"
     ]
    }
   ],
   "source": [
    "print(x>y)\n",
    "print(x>=y)    \n",
    "print(x<y)\n",
    "print(x<=y)\n",
    "print(x==y)\n",
    "print(x!=y)"
   ]
  },
  {
   "cell_type": "markdown",
   "id": "1f2dc283",
   "metadata": {},
   "source": [
    "# Logical Operators"
   ]
  },
  {
   "cell_type": "code",
   "execution_count": 3,
   "id": "7bbc6ecc",
   "metadata": {},
   "outputs": [],
   "source": [
    "# and, or, not"
   ]
  },
  {
   "cell_type": "markdown",
   "id": "18e73a1e",
   "metadata": {},
   "source": [
    "# String Functions"
   ]
  },
  {
   "cell_type": "code",
   "execution_count": 4,
   "id": "1103474b",
   "metadata": {},
   "outputs": [
    {
     "name": "stdout",
     "output_type": "stream",
     "text": [
      "Length of text                    :  15\n",
      "Slicing of text \n",
      "First letter                      :  L\n",
      "Last letter                       :  n\n",
      "Letteres in between 1 and 5 index :  earn\n",
      "Trimming                          :  Learning Python\n",
      "In lowercase                      :  learning python\n",
      "In uppercase                      :  LEARNING PYTHON\n",
      "Repalce 'n' with 'Z'              :  LearZiZg PythoZ\n",
      "Concatination of t1 & t2          :  helloWorld\n",
      "Formating text : \n",
      "My name is Prartha and iam 24 yrs old \n"
     ]
    }
   ],
   "source": [
    "text=\"Learning Python\"\n",
    "\n",
    "print(\"Length of text                    : \",len(text))\n",
    "print(\"Slicing of text \")\n",
    "print(\"First letter                      : \",text[0])\n",
    "print(\"Last letter                       : \",text[-1])\n",
    "print(\"Letteres in between 1 and 5 index : \",text[1:5])\n",
    "print(\"Trimming                          : \",text.strip())\n",
    "print(\"In lowercase                      : \",text.lower())\n",
    "print(\"In uppercase                      : \",text.upper())\n",
    "print(\"Repalce 'n' with 'Z'              : \",text.replace('n','Z'))\n",
    "\n",
    "t1=\"hello\"\n",
    "t2=\"World\"\n",
    "print(\"Concatination of t1 & t2          : \",t1+t2)\n",
    "print(\"Formating text : \")\n",
    "name=\"Prartha\"\n",
    "age=24\n",
    "text2=\"My name is {} and iam {} yrs old \"\n",
    "print(text2.format(name,age))\n"
   ]
  },
  {
   "cell_type": "markdown",
   "id": "19e19274",
   "metadata": {},
   "source": [
    "# Collections in Python\n",
    " 1. List\n",
    " 2. Tuple\n",
    " 3. Set\n",
    " 4. Dictionary"
   ]
  },
  {
   "cell_type": "markdown",
   "id": "7f6b227b",
   "metadata": {},
   "source": [
    "# 1. List"
   ]
  },
  {
   "cell_type": "code",
   "execution_count": 5,
   "id": "3bd46617",
   "metadata": {},
   "outputs": [
    {
     "name": "stdout",
     "output_type": "stream",
     "text": [
      "['mango', 'orange', 'apple', 'mango']\n"
     ]
    }
   ],
   "source": [
    "l1=['mango','orange','apple','mango']\n",
    "print(l1)"
   ]
  },
  {
   "cell_type": "markdown",
   "id": "8ef671d2",
   "metadata": {},
   "source": [
    "Duplication allowed"
   ]
  },
  {
   "cell_type": "code",
   "execution_count": 6,
   "id": "4910c60b",
   "metadata": {},
   "outputs": [
    {
     "name": "stdout",
     "output_type": "stream",
     "text": [
      "4\n"
     ]
    }
   ],
   "source": [
    "print(len(l1))"
   ]
  },
  {
   "cell_type": "markdown",
   "id": "55f8c99d",
   "metadata": {},
   "source": [
    "length of list"
   ]
  },
  {
   "cell_type": "code",
   "execution_count": 7,
   "id": "f485f4c6",
   "metadata": {},
   "outputs": [
    {
     "name": "stdout",
     "output_type": "stream",
     "text": [
      "First item    :  mango\n",
      "Last item     :  mango\n",
      "first 2 items :  ['mango', 'orange']\n",
      "Last 2 items  :  ['apple', 'mango']\n"
     ]
    }
   ],
   "source": [
    "print(\"First item    : \",l1[0])\n",
    "print(\"Last item     : \",l1[-1])\n",
    "print(\"first 2 items : \",l1[0:2])\n",
    "print(\"Last 2 items  : \",l1[-2:])"
   ]
  },
  {
   "cell_type": "code",
   "execution_count": 8,
   "id": "c2762735",
   "metadata": {},
   "outputs": [
    {
     "name": "stdout",
     "output_type": "stream",
     "text": [
      "['mango', 'orange', 'apple', 'mango', 'pinapple']\n"
     ]
    }
   ],
   "source": [
    "l1.append(\"pinapple\")\n",
    "print(l1)"
   ]
  },
  {
   "cell_type": "markdown",
   "id": "2ab2e892",
   "metadata": {},
   "source": [
    "Appended"
   ]
  },
  {
   "cell_type": "code",
   "execution_count": 9,
   "id": "bda86026",
   "metadata": {},
   "outputs": [
    {
     "name": "stdout",
     "output_type": "stream",
     "text": [
      "['mango', 'orange', 'jackfruit', 'apple', 'mango', 'pinapple']\n"
     ]
    }
   ],
   "source": [
    "l1.insert(2,\"jackfruit\")\n",
    "print(l1)"
   ]
  },
  {
   "cell_type": "markdown",
   "id": "96226f03",
   "metadata": {},
   "source": [
    "Insert at any position"
   ]
  },
  {
   "cell_type": "code",
   "execution_count": 10,
   "id": "810319b9",
   "metadata": {},
   "outputs": [
    {
     "name": "stdout",
     "output_type": "stream",
     "text": [
      "['orange', 'jackfruit', 'apple', 'mango', 'pinapple']\n"
     ]
    }
   ],
   "source": [
    "l1.remove('mango')\n",
    "print(l1)"
   ]
  },
  {
   "cell_type": "markdown",
   "id": "13c888ce",
   "metadata": {},
   "source": [
    "Remove first entry of 'mango' from list"
   ]
  },
  {
   "cell_type": "code",
   "execution_count": 11,
   "id": "e0fe802b",
   "metadata": {},
   "outputs": [
    {
     "name": "stdout",
     "output_type": "stream",
     "text": [
      "[]\n"
     ]
    }
   ],
   "source": [
    "l1.clear()\n",
    "print(l1)"
   ]
  },
  {
   "cell_type": "markdown",
   "id": "a995765e",
   "metadata": {},
   "source": [
    "List l1 is cleared"
   ]
  },
  {
   "cell_type": "code",
   "execution_count": 12,
   "id": "fbc5f81d",
   "metadata": {},
   "outputs": [],
   "source": [
    "del l1\n"
   ]
  },
  {
   "cell_type": "markdown",
   "id": "74f3496a",
   "metadata": {},
   "source": [
    "l1 is deleted"
   ]
  },
  {
   "cell_type": "markdown",
   "id": "33568ae2",
   "metadata": {},
   "source": [
    "# 2. Tuples"
   ]
  },
  {
   "cell_type": "code",
   "execution_count": 13,
   "id": "b071df11",
   "metadata": {},
   "outputs": [
    {
     "name": "stdout",
     "output_type": "stream",
     "text": [
      "('mango', 'apple', 'orange')\n"
     ]
    }
   ],
   "source": [
    "t1=(\"mango\",\"apple\",\"orange\")\n",
    "print(t1)"
   ]
  },
  {
   "cell_type": "markdown",
   "id": "7fbec673",
   "metadata": {},
   "source": [
    "No duplicate entry of items are allowed in tuples"
   ]
  },
  {
   "cell_type": "code",
   "execution_count": 14,
   "id": "cba3c3ae",
   "metadata": {},
   "outputs": [
    {
     "name": "stdout",
     "output_type": "stream",
     "text": [
      "First item      :  mango\n",
      "first two items :  ('mango', 'apple')\n",
      "Lst two items   :  ('apple', 'orange')\n"
     ]
    }
   ],
   "source": [
    "print(\"First item      : \",t1[0])\n",
    "print(\"first two items : \",t1[0:2])\n",
    "print(\"Lst two items   : \",t1[-2:])"
   ]
  },
  {
   "cell_type": "markdown",
   "id": "95c26aec",
   "metadata": {},
   "source": [
    "When a tuple is created it is not possible to change or add items to it. That is not alterable"
   ]
  },
  {
   "cell_type": "code",
   "execution_count": 15,
   "id": "11a3a85d",
   "metadata": {},
   "outputs": [
    {
     "name": "stdout",
     "output_type": "stream",
     "text": [
      "mango\n",
      "apple\n",
      "orange\n"
     ]
    }
   ],
   "source": [
    "for x in t1:\n",
    "    print(x)"
   ]
  },
  {
   "cell_type": "markdown",
   "id": "c9cc7120",
   "metadata": {},
   "source": [
    "Using for loop printing items in the tuple"
   ]
  },
  {
   "cell_type": "code",
   "execution_count": 16,
   "id": "0ce4194b",
   "metadata": {},
   "outputs": [
    {
     "name": "stdout",
     "output_type": "stream",
     "text": [
      "3\n"
     ]
    }
   ],
   "source": [
    "print(len(t1))"
   ]
  },
  {
   "cell_type": "markdown",
   "id": "8d85a640",
   "metadata": {},
   "source": [
    "Length of tuple t1"
   ]
  },
  {
   "cell_type": "code",
   "execution_count": 17,
   "id": "a4221ba5",
   "metadata": {},
   "outputs": [],
   "source": [
    "del t1"
   ]
  },
  {
   "cell_type": "markdown",
   "id": "c3f71302",
   "metadata": {},
   "source": [
    "it will delete the tuple"
   ]
  },
  {
   "cell_type": "code",
   "execution_count": 18,
   "id": "4bd0d555",
   "metadata": {},
   "outputs": [
    {
     "name": "stdout",
     "output_type": "stream",
     "text": [
      "(1, 2, 3, 4, 'a', 'b', 'c', 'd')\n"
     ]
    }
   ],
   "source": [
    "t2=(1,2,3,4)\n",
    "t3=('a','b','c','d')\n",
    "print(t2+t3)"
   ]
  },
  {
   "cell_type": "markdown",
   "id": "ecdfb33c",
   "metadata": {},
   "source": [
    "concatination of two tuples"
   ]
  },
  {
   "cell_type": "markdown",
   "id": "bbca0adb",
   "metadata": {},
   "source": [
    "# 3.Sets"
   ]
  },
  {
   "cell_type": "code",
   "execution_count": 19,
   "id": "de727a84",
   "metadata": {},
   "outputs": [
    {
     "name": "stdout",
     "output_type": "stream",
     "text": [
      "{'carrot', 'cabbage', 'tomato'}\n"
     ]
    }
   ],
   "source": [
    "s1={'tomato','carrot','cabbage'}\n",
    "print(s1)"
   ]
  },
  {
   "cell_type": "markdown",
   "id": "0b048562",
   "metadata": {},
   "source": [
    "unorderd and unindexed"
   ]
  },
  {
   "cell_type": "code",
   "execution_count": 20,
   "id": "877fb97b",
   "metadata": {},
   "outputs": [
    {
     "name": "stdout",
     "output_type": "stream",
     "text": [
      "carrot\n",
      "cabbage\n",
      "tomato\n"
     ]
    }
   ],
   "source": [
    "for x in s1:\n",
    "    print(x)"
   ]
  },
  {
   "cell_type": "code",
   "execution_count": 21,
   "id": "1de640c9",
   "metadata": {},
   "outputs": [
    {
     "name": "stdout",
     "output_type": "stream",
     "text": [
      "True\n"
     ]
    }
   ],
   "source": [
    "print('tomato' in s1)"
   ]
  },
  {
   "cell_type": "markdown",
   "id": "94ebc7f7",
   "metadata": {},
   "source": [
    "to check whether an item esist or not in set"
   ]
  },
  {
   "cell_type": "code",
   "execution_count": 22,
   "id": "aacf8ac6",
   "metadata": {},
   "outputs": [
    {
     "name": "stdout",
     "output_type": "stream",
     "text": [
      "LEngth of set     :  3\n",
      "Adding a new item :  {'onion', 'carrot', 'cabbage', 'tomato'}\n"
     ]
    }
   ],
   "source": [
    "print(\"LEngth of set     : \",len(s1))\n",
    "s1.add(\"onion\")\n",
    "print(\"Adding a new item : \",s1)"
   ]
  },
  {
   "cell_type": "markdown",
   "id": "87fc8358",
   "metadata": {},
   "source": [
    "if we want to add a single item, use add method\n",
    "if we need to add more than one item using update method"
   ]
  },
  {
   "cell_type": "code",
   "execution_count": 23,
   "id": "7389aa5e",
   "metadata": {},
   "outputs": [
    {
     "name": "stdout",
     "output_type": "stream",
     "text": [
      "{'chilly', 'onion', 'tomato', 'carrot', 'cabbage'}\n"
     ]
    }
   ],
   "source": [
    "s1.update(['onion','chilly'])\n",
    "print(s1)"
   ]
  },
  {
   "cell_type": "code",
   "execution_count": 24,
   "id": "ecb2d2a4",
   "metadata": {},
   "outputs": [
    {
     "name": "stdout",
     "output_type": "stream",
     "text": [
      "Removed carrot from set :  {'chilly', 'onion', 'tomato', 'cabbage'}\n"
     ]
    }
   ],
   "source": [
    "s1.remove('carrot')\n",
    "print(\"Removed carrot from set : \",s1)"
   ]
  },
  {
   "cell_type": "code",
   "execution_count": 25,
   "id": "ebb892af",
   "metadata": {},
   "outputs": [
    {
     "name": "stdout",
     "output_type": "stream",
     "text": [
      "{'chilly', 'onion', 'tomato', 'cabbage'}\n",
      "{'chilly', 'onion', 'tomato', 'cabbage'}\n"
     ]
    }
   ],
   "source": [
    "s1.add(\"carrot\")\n",
    "s1.discard('carrot')\n",
    "print(s1)\n",
    "s1.discard('potato')\n",
    "print(s1)"
   ]
  },
  {
   "cell_type": "markdown",
   "id": "46330b9a",
   "metadata": {},
   "source": [
    "using discard we can delete the item which is present or not present in the set, while using remove method it will give an error if we try to remove item which is not present in the set"
   ]
  },
  {
   "cell_type": "code",
   "execution_count": 26,
   "id": "c921d50c",
   "metadata": {},
   "outputs": [
    {
     "name": "stdout",
     "output_type": "stream",
     "text": [
      "{1, 2, 3, 'cabbage', 'chilly', 'onion', 'tomato'}\n"
     ]
    }
   ],
   "source": [
    "s2={1,2,3}\n",
    "print(s1.union(s2))"
   ]
  },
  {
   "cell_type": "markdown",
   "id": "ebf1111d",
   "metadata": {},
   "source": [
    "union method will join two sets"
   ]
  },
  {
   "cell_type": "code",
   "execution_count": 27,
   "id": "f2d66403",
   "metadata": {},
   "outputs": [
    {
     "name": "stdout",
     "output_type": "stream",
     "text": [
      "set()\n"
     ]
    }
   ],
   "source": [
    "s1.clear()\n",
    "print(s1)"
   ]
  },
  {
   "cell_type": "code",
   "execution_count": 28,
   "id": "548aeda6",
   "metadata": {},
   "outputs": [],
   "source": [
    "del s1"
   ]
  },
  {
   "cell_type": "markdown",
   "id": "7c4820eb",
   "metadata": {},
   "source": [
    "# 4.Dictionary"
   ]
  },
  {
   "cell_type": "markdown",
   "id": "dd598424",
   "metadata": {},
   "source": [
    "key value pairs are stored in dictionary"
   ]
  },
  {
   "cell_type": "code",
   "execution_count": 29,
   "id": "9f7dd1d8",
   "metadata": {},
   "outputs": [
    {
     "name": "stdout",
     "output_type": "stream",
     "text": [
      "{'name': 'Jhon', 'email': 'jhon@gmail.com', 'phone': 12345}\n"
     ]
    }
   ],
   "source": [
    "dict1 = {\n",
    "    \"name\":\"Jhon\",\n",
    "    \"email\":\"jhon@gmail.com\",\n",
    "    \"phone\":12345\n",
    "}\n",
    "print(dict1)"
   ]
  },
  {
   "cell_type": "code",
   "execution_count": 30,
   "id": "a5a2b945",
   "metadata": {},
   "outputs": [
    {
     "name": "stdout",
     "output_type": "stream",
     "text": [
      "Jhon\n"
     ]
    }
   ],
   "source": [
    "a=dict1[\"name\"]\n",
    "print(a)"
   ]
  },
  {
   "cell_type": "code",
   "execution_count": 31,
   "id": "71ef1d22",
   "metadata": {},
   "outputs": [
    {
     "name": "stdout",
     "output_type": "stream",
     "text": [
      "jhon@gmail.com\n",
      "12345\n",
      "Jhon\n"
     ]
    }
   ],
   "source": [
    "print(dict1[\"email\"])\n",
    "print(dict1[\"phone\"])\n",
    "print(dict1.get(\"name\"))"
   ]
  },
  {
   "cell_type": "markdown",
   "id": "172bb9f7",
   "metadata": {},
   "source": [
    "we can also use get method to get the values from dictionary"
   ]
  },
  {
   "cell_type": "code",
   "execution_count": 32,
   "id": "1c0013c7",
   "metadata": {},
   "outputs": [
    {
     "name": "stdout",
     "output_type": "stream",
     "text": [
      "{'name': 'Smith', 'email': 'jhon@gmail.com', 'phone': 12345}\n"
     ]
    }
   ],
   "source": [
    "dict1[\"name\"]=\"Smith\"\n",
    "print(dict1)"
   ]
  },
  {
   "cell_type": "markdown",
   "id": "6935aeaa",
   "metadata": {},
   "source": [
    "to change the values of key"
   ]
  },
  {
   "cell_type": "code",
   "execution_count": 33,
   "id": "ddb7dbe7",
   "metadata": {},
   "outputs": [
    {
     "name": "stdout",
     "output_type": "stream",
     "text": [
      "name\n",
      "email\n",
      "phone\n"
     ]
    }
   ],
   "source": [
    "for x in dict1:\n",
    "    print(x)"
   ]
  },
  {
   "cell_type": "markdown",
   "id": "93748d1d",
   "metadata": {},
   "source": [
    "it will print the keys in the dictionary"
   ]
  },
  {
   "cell_type": "code",
   "execution_count": 34,
   "id": "b0e9430a",
   "metadata": {},
   "outputs": [
    {
     "name": "stdout",
     "output_type": "stream",
     "text": [
      "Smith\n",
      "jhon@gmail.com\n",
      "12345\n"
     ]
    }
   ],
   "source": [
    "for x in dict1:\n",
    "    print(dict1[x])"
   ]
  },
  {
   "cell_type": "markdown",
   "id": "8c70622f",
   "metadata": {},
   "source": [
    "this will give the values in the dictionary"
   ]
  },
  {
   "cell_type": "code",
   "execution_count": 35,
   "id": "1a6f032a",
   "metadata": {},
   "outputs": [
    {
     "name": "stdout",
     "output_type": "stream",
     "text": [
      "name Smith\n",
      "email jhon@gmail.com\n",
      "phone 12345\n"
     ]
    }
   ],
   "source": [
    "for x,y in dict1.items():\n",
    "    print(x,y)"
   ]
  },
  {
   "cell_type": "markdown",
   "id": "ffe7a753",
   "metadata": {},
   "source": [
    "to print keys and values together"
   ]
  },
  {
   "cell_type": "code",
   "execution_count": 36,
   "id": "37d1ac16",
   "metadata": {},
   "outputs": [
    {
     "name": "stdout",
     "output_type": "stream",
     "text": [
      "{'name': 'Smith', 'email': 'jhon@gmail.com', 'phone': 12345, 'age': 30}\n"
     ]
    }
   ],
   "source": [
    "dict1[\"age\"]=30\n",
    "print(dict1)"
   ]
  },
  {
   "cell_type": "markdown",
   "id": "cac00db8",
   "metadata": {},
   "source": [
    "to add new key value pair to the dictionary"
   ]
  },
  {
   "cell_type": "code",
   "execution_count": 37,
   "id": "a2ac6a5d",
   "metadata": {},
   "outputs": [
    {
     "name": "stdout",
     "output_type": "stream",
     "text": [
      "{'name': 'Smith', 'phone': 12345, 'age': 30}\n"
     ]
    }
   ],
   "source": [
    "dict1.pop(\"email\")\n",
    "print(dict1)"
   ]
  },
  {
   "cell_type": "markdown",
   "id": "0efb10b1",
   "metadata": {},
   "source": [
    "to remove key value pair from the given dictionary"
   ]
  },
  {
   "cell_type": "code",
   "execution_count": 38,
   "id": "0cc77135",
   "metadata": {},
   "outputs": [
    {
     "name": "stdout",
     "output_type": "stream",
     "text": [
      "{'name': 'Smith', 'age': 30}\n"
     ]
    }
   ],
   "source": [
    "del dict1[\"phone\"]\n",
    "print(dict1)"
   ]
  },
  {
   "cell_type": "markdown",
   "id": "5c9cd920",
   "metadata": {},
   "source": [
    "remove key value pair using del"
   ]
  },
  {
   "cell_type": "code",
   "execution_count": 39,
   "id": "37c249df",
   "metadata": {},
   "outputs": [
    {
     "name": "stdout",
     "output_type": "stream",
     "text": [
      "{}\n"
     ]
    }
   ],
   "source": [
    "dict1.clear()\n",
    "print(dict1)"
   ]
  },
  {
   "cell_type": "code",
   "execution_count": 40,
   "id": "fe899d32",
   "metadata": {},
   "outputs": [],
   "source": [
    "del dict1"
   ]
  },
  {
   "cell_type": "markdown",
   "id": "c65286e4",
   "metadata": {},
   "source": [
    "# IF condition"
   ]
  },
  {
   "cell_type": "raw",
   "id": "2e15037d",
   "metadata": {},
   "source": [
    "Simple If"
   ]
  },
  {
   "cell_type": "code",
   "execution_count": 41,
   "id": "e9b67fd6",
   "metadata": {},
   "outputs": [
    {
     "name": "stdout",
     "output_type": "stream",
     "text": [
      "Enter number : 334\n",
      "positive\n"
     ]
    }
   ],
   "source": [
    "a=int(input(\"Enter number : \"))\n",
    "\n",
    "if a>0:\n",
    "    print(\"positive\")\n",
    "else:\n",
    "    print(\"negetive\")"
   ]
  },
  {
   "cell_type": "raw",
   "id": "82aa38fb",
   "metadata": {},
   "source": [
    "if elif statement"
   ]
  },
  {
   "cell_type": "code",
   "execution_count": 42,
   "id": "6de5609e",
   "metadata": {},
   "outputs": [
    {
     "name": "stdout",
     "output_type": "stream",
     "text": [
      "positive\n"
     ]
    }
   ],
   "source": [
    "if a > 0:\n",
    "    print(\"positive\")\n",
    "elif a<0:\n",
    "    print(\"negetive\")\n",
    "elif a==0:\n",
    "    print(\"Zero\")\n",
    "else:\n",
    "    print(\"not number\")\n"
   ]
  },
  {
   "cell_type": "raw",
   "id": "7c7e0981",
   "metadata": {},
   "source": [
    "Nested if"
   ]
  },
  {
   "cell_type": "code",
   "execution_count": 43,
   "id": "6a12d460",
   "metadata": {},
   "outputs": [
    {
     "name": "stdout",
     "output_type": "stream",
     "text": [
      "Y is small\n"
     ]
    }
   ],
   "source": [
    "x,y,z=87,28,94\n",
    "\n",
    "if x < y:\n",
    "    if x < z:\n",
    "        print(\"X is small\")\n",
    "    else:\n",
    "        print(\"z is small\")\n",
    "else:\n",
    "    if y < z:\n",
    "        print(\"Y is small\")\n",
    "    else:\n",
    "        print(\"z is small\")"
   ]
  },
  {
   "cell_type": "markdown",
   "id": "81ecfc79",
   "metadata": {},
   "source": [
    "# While Loop"
   ]
  },
  {
   "cell_type": "code",
   "execution_count": 44,
   "id": "63b64fab",
   "metadata": {},
   "outputs": [
    {
     "name": "stdout",
     "output_type": "stream",
     "text": [
      "0\n",
      "1\n",
      "2\n",
      "3\n",
      "4\n"
     ]
    }
   ],
   "source": [
    "n=0\n",
    "while n<5:\n",
    "    print(n)\n",
    "    n+=1"
   ]
  },
  {
   "cell_type": "markdown",
   "id": "806c2169",
   "metadata": {},
   "source": [
    "# For Loop"
   ]
  },
  {
   "cell_type": "markdown",
   "id": "0b9d6cd3",
   "metadata": {},
   "source": [
    "Mainly used with strings to print characters & collections like list, tuple, set, dictionary access values from those collections"
   ]
  },
  {
   "cell_type": "code",
   "execution_count": 45,
   "id": "1283aa5d",
   "metadata": {},
   "outputs": [
    {
     "name": "stdout",
     "output_type": "stream",
     "text": [
      "H\n",
      "E\n",
      "L\n",
      "L\n",
      "O\n"
     ]
    }
   ],
   "source": [
    "word=\"HELLO\"\n",
    "\n",
    "for i in word:\n",
    "    print(i)"
   ]
  },
  {
   "cell_type": "code",
   "execution_count": 46,
   "id": "90d8e86f",
   "metadata": {},
   "outputs": [
    {
     "name": "stdout",
     "output_type": "stream",
     "text": [
      "L\n"
     ]
    }
   ],
   "source": [
    "for i in word[3]:\n",
    "    print(i)"
   ]
  },
  {
   "cell_type": "markdown",
   "id": "6c58f4f4",
   "metadata": {},
   "source": [
    "similarly in list,tuple etc"
   ]
  },
  {
   "cell_type": "code",
   "execution_count": 47,
   "id": "4eae9efe",
   "metadata": {},
   "outputs": [
    {
     "name": "stdout",
     "output_type": "stream",
     "text": [
      "0\n",
      "1\n",
      "2\n",
      "3\n",
      "4\n"
     ]
    }
   ],
   "source": [
    "for i in range(5):\n",
    "    print(i)"
   ]
  },
  {
   "cell_type": "markdown",
   "id": "a255f5d0",
   "metadata": {},
   "source": [
    "for i in range(1,5):\n",
    "    print(i)"
   ]
  },
  {
   "cell_type": "code",
   "execution_count": 48,
   "id": "5a9b3577",
   "metadata": {},
   "outputs": [
    {
     "name": "stdout",
     "output_type": "stream",
     "text": [
      "1\n",
      "3\n",
      "5\n",
      "7\n",
      "9\n"
     ]
    }
   ],
   "source": [
    "for i in range(1,10,2):\n",
    "    print(i)"
   ]
  },
  {
   "cell_type": "code",
   "execution_count": 49,
   "id": "c7b88db2",
   "metadata": {},
   "outputs": [
    {
     "name": "stdout",
     "output_type": "stream",
     "text": [
      "10\n",
      "9\n",
      "8\n",
      "7\n",
      "6\n"
     ]
    }
   ],
   "source": [
    "for i in range(10,5,-1):\n",
    "    print(i)"
   ]
  },
  {
   "cell_type": "code",
   "execution_count": 50,
   "id": "3f3d8586",
   "metadata": {},
   "outputs": [
    {
     "name": "stdout",
     "output_type": "stream",
     "text": [
      "15\n",
      "13\n",
      "11\n",
      "9\n",
      "7\n"
     ]
    }
   ],
   "source": [
    "for i in range(15,5,-2):\n",
    "    print(i)"
   ]
  },
  {
   "cell_type": "markdown",
   "id": "5b359916",
   "metadata": {},
   "source": [
    "# Function"
   ]
  },
  {
   "cell_type": "code",
   "execution_count": 51,
   "id": "16d51bc2",
   "metadata": {},
   "outputs": [
    {
     "name": "stdout",
     "output_type": "stream",
     "text": [
      "Statements\n"
     ]
    }
   ],
   "source": [
    "def function_name():\n",
    "    print(\"Statements\")\n",
    "#function call\n",
    "\n",
    "function_name();"
   ]
  },
  {
   "cell_type": "code",
   "execution_count": 52,
   "id": "dd8ac671",
   "metadata": {},
   "outputs": [
    {
     "name": "stdout",
     "output_type": "stream",
     "text": [
      "6\n"
     ]
    }
   ],
   "source": [
    "def fact(n):\n",
    "    f=1\n",
    "    while n > 0:\n",
    "        f=f*n\n",
    "        n-=1\n",
    "    print(f)\n",
    "fact(3)"
   ]
  },
  {
   "cell_type": "code",
   "execution_count": 53,
   "id": "5ea30815",
   "metadata": {},
   "outputs": [
    {
     "name": "stdout",
     "output_type": "stream",
     "text": [
      "3628800\n"
     ]
    }
   ],
   "source": [
    "fact(10)"
   ]
  },
  {
   "cell_type": "code",
   "execution_count": 54,
   "id": "cbaf2098",
   "metadata": {},
   "outputs": [
    {
     "name": "stdout",
     "output_type": "stream",
     "text": [
      "5040\n"
     ]
    }
   ],
   "source": [
    "fact(7)"
   ]
  },
  {
   "cell_type": "code",
   "execution_count": 55,
   "id": "4f7abda7",
   "metadata": {},
   "outputs": [
    {
     "data": {
      "text/plain": [
       "43"
      ]
     },
     "execution_count": 55,
     "metadata": {},
     "output_type": "execute_result"
    }
   ],
   "source": [
    "def rev(n):\n",
    "    r=0\n",
    "    while n > 0:\n",
    "        d = n % 10\n",
    "        r = r * 10 + d\n",
    "        n = n // 10\n",
    "    return r\n",
    "rev(34)"
   ]
  },
  {
   "cell_type": "code",
   "execution_count": 56,
   "id": "f3b52d23",
   "metadata": {},
   "outputs": [
    {
     "data": {
      "text/plain": [
       "7247"
      ]
     },
     "execution_count": 56,
     "metadata": {},
     "output_type": "execute_result"
    }
   ],
   "source": [
    "rev(7427)"
   ]
  },
  {
   "cell_type": "markdown",
   "id": "f0e1024a",
   "metadata": {},
   "source": [
    "# Recurssive function"
   ]
  },
  {
   "cell_type": "code",
   "execution_count": 57,
   "id": "8ccd5cbf",
   "metadata": {},
   "outputs": [
    {
     "data": {
      "text/plain": [
       "3"
      ]
     },
     "execution_count": 57,
     "metadata": {},
     "output_type": "execute_result"
    }
   ],
   "source": [
    "# sum of numbrs upto n\n",
    "\n",
    "def sum_num(n):\n",
    "    if n <= 1 : \n",
    "        return n\n",
    "    else:\n",
    "        return n + sum_num(n-1)\n",
    "sum_num(2)"
   ]
  },
  {
   "cell_type": "code",
   "execution_count": 58,
   "id": "5739bab2",
   "metadata": {},
   "outputs": [
    {
     "data": {
      "text/plain": [
       "15"
      ]
     },
     "execution_count": 58,
     "metadata": {},
     "output_type": "execute_result"
    }
   ],
   "source": [
    "sum_num(5)"
   ]
  },
  {
   "cell_type": "code",
   "execution_count": 59,
   "id": "b7a077f6",
   "metadata": {},
   "outputs": [
    {
     "data": {
      "text/plain": [
       "5040"
      ]
     },
     "execution_count": 59,
     "metadata": {},
     "output_type": "execute_result"
    }
   ],
   "source": [
    "def factorial(n):\n",
    "    if n <= 0:\n",
    "        return 1\n",
    "    else:\n",
    "        return n * factorial(n-1)\n",
    "factorial(7)"
   ]
  },
  {
   "cell_type": "code",
   "execution_count": 60,
   "id": "2395c163",
   "metadata": {},
   "outputs": [
    {
     "data": {
      "text/plain": [
       "1"
      ]
     },
     "execution_count": 60,
     "metadata": {},
     "output_type": "execute_result"
    }
   ],
   "source": [
    "factorial(0)"
   ]
  },
  {
   "cell_type": "markdown",
   "id": "8bf71455",
   "metadata": {},
   "source": [
    "# Lambda Function (Anonimous Function)"
   ]
  },
  {
   "cell_type": "code",
   "execution_count": 61,
   "id": "188192c3",
   "metadata": {},
   "outputs": [
    {
     "name": "stdout",
     "output_type": "stream",
     "text": [
      "100\n"
     ]
    }
   ],
   "source": [
    "l=lambda x : x*x\n",
    "print(l(10))"
   ]
  },
  {
   "cell_type": "code",
   "execution_count": 62,
   "id": "33528c52",
   "metadata": {},
   "outputs": [
    {
     "name": "stdout",
     "output_type": "stream",
     "text": [
      "16\n"
     ]
    }
   ],
   "source": [
    "l2=lambda x,y : x**y\n",
    "print(l2(4,2))"
   ]
  },
  {
   "cell_type": "code",
   "execution_count": 63,
   "id": "ed6a7c1d",
   "metadata": {},
   "outputs": [
    {
     "name": "stdout",
     "output_type": "stream",
     "text": [
      "[2, 4, 6]\n"
     ]
    }
   ],
   "source": [
    "list1=[1,2,3,4,5,6]\n",
    "\n",
    "# filtering list to take out the even numbers from the list\n",
    "\n",
    "def even(x):\n",
    "    if x % 2 == 0:\n",
    "        return x\n",
    "f=filter(even, list1)\n",
    "\n",
    "print(list(f))"
   ]
  },
  {
   "cell_type": "code",
   "execution_count": 64,
   "id": "dd62bd52",
   "metadata": {},
   "outputs": [
    {
     "name": "stdout",
     "output_type": "stream",
     "text": [
      "[1, 3, 5]\n"
     ]
    }
   ],
   "source": [
    "# using lambda function\n",
    "\n",
    "f1=filter(lambda x : x % 2 == 1,list1)\n",
    "print(list(f1))"
   ]
  },
  {
   "cell_type": "markdown",
   "id": "5c07f00e",
   "metadata": {},
   "source": [
    "# Object Oriented Programming in Python"
   ]
  },
  {
   "cell_type": "code",
   "execution_count": 65,
   "id": "5d905ddb",
   "metadata": {},
   "outputs": [
    {
     "name": "stdout",
     "output_type": "stream",
     "text": [
      "maruti\n",
      "toyota\n"
     ]
    }
   ],
   "source": [
    "class Cars:\n",
    "    def __init__(self,name,price,colour):\n",
    "        self.name = name\n",
    "        self.price = price\n",
    "        self.colour = colour\n",
    "    def start(self):\n",
    "        print(self.name+\" engine started\")\n",
    "    \n",
    "car1 = Cars(\"maruti\",41232,\"red\")\n",
    "car2= Cars(\"toyota\",433030,\"white\")\n",
    "\n",
    "print(car1.name)\n",
    "print(car2.name)"
   ]
  },
  {
   "cell_type": "code",
   "execution_count": 66,
   "id": "75259a55",
   "metadata": {},
   "outputs": [
    {
     "name": "stdout",
     "output_type": "stream",
     "text": [
      "maruti red 41232\n"
     ]
    }
   ],
   "source": [
    "print(car1.name,car1.colour,car1.price)"
   ]
  },
  {
   "cell_type": "code",
   "execution_count": 67,
   "id": "57fd28ed",
   "metadata": {},
   "outputs": [
    {
     "name": "stdout",
     "output_type": "stream",
     "text": [
      "maruti engine started\n"
     ]
    }
   ],
   "source": [
    "car1.start()"
   ]
  },
  {
   "cell_type": "markdown",
   "id": "3f609528",
   "metadata": {},
   "source": [
    "# Inheritance"
   ]
  },
  {
   "cell_type": "code",
   "execution_count": 68,
   "id": "19e29632",
   "metadata": {},
   "outputs": [
    {
     "name": "stdout",
     "output_type": "stream",
     "text": [
      "jhon 34456\n",
      "leela 45543\n"
     ]
    }
   ],
   "source": [
    "# parent class\n",
    "class Person:\n",
    "    def __init__(self,name,contact):\n",
    "        self.name=name\n",
    "        self.contact=contact\n",
    "    def adres(self):\n",
    "        print(self.name,self.contact)\n",
    "\n",
    " # child class\n",
    "class Doctor(Person):\n",
    "    # if there is no new properties and method then use a key word pass\n",
    "    pass\n",
    "class Patient(Person):\n",
    "    pass\n",
    "\n",
    "d1=Doctor(\"jhon\",34456)\n",
    "p1=Patient(\"leela\",45543)\n",
    "\n",
    "d1.adres()\n",
    "p1.adres()"
   ]
  },
  {
   "cell_type": "markdown",
   "id": "94600f9c",
   "metadata": {},
   "source": [
    "# Math Function"
   ]
  },
  {
   "cell_type": "code",
   "execution_count": 69,
   "id": "e5f174a9",
   "metadata": {},
   "outputs": [
    {
     "name": "stdout",
     "output_type": "stream",
     "text": [
      "4\n"
     ]
    }
   ],
   "source": [
    "a=min(23,4,4,12,3445,32)\n",
    "print(a)"
   ]
  },
  {
   "cell_type": "code",
   "execution_count": 70,
   "id": "c29cd613",
   "metadata": {},
   "outputs": [
    {
     "name": "stdout",
     "output_type": "stream",
     "text": [
      "3445\n"
     ]
    }
   ],
   "source": [
    "b=max(23,4,4,12,3445,32)\n",
    "print(b)"
   ]
  },
  {
   "cell_type": "code",
   "execution_count": 71,
   "id": "027bf84b",
   "metadata": {},
   "outputs": [
    {
     "name": "stdout",
     "output_type": "stream",
     "text": [
      "8\n"
     ]
    }
   ],
   "source": [
    "x=pow(2,3) # 2**3=2*2*2\n",
    "print(x)"
   ]
  },
  {
   "cell_type": "code",
   "execution_count": 72,
   "id": "04066c32",
   "metadata": {},
   "outputs": [
    {
     "name": "stdout",
     "output_type": "stream",
     "text": [
      "3.141592653589793\n"
     ]
    }
   ],
   "source": [
    "import math\n",
    "\n",
    "print(math.pi)"
   ]
  },
  {
   "cell_type": "code",
   "execution_count": 73,
   "id": "d2732c58",
   "metadata": {},
   "outputs": [
    {
     "name": "stdout",
     "output_type": "stream",
     "text": [
      "3.0\n"
     ]
    }
   ],
   "source": [
    "print(math.sqrt(9))\n"
   ]
  },
  {
   "cell_type": "code",
   "execution_count": 74,
   "id": "afbcee5c",
   "metadata": {},
   "outputs": [
    {
     "name": "stdout",
     "output_type": "stream",
     "text": [
      "2\n"
     ]
    }
   ],
   "source": [
    "print(math.gcd(18,74))"
   ]
  },
  {
   "cell_type": "code",
   "execution_count": 75,
   "id": "8420d0eb",
   "metadata": {},
   "outputs": [
    {
     "name": "stdout",
     "output_type": "stream",
     "text": [
      "36\n"
     ]
    }
   ],
   "source": [
    "print(math.lcm(6,36))"
   ]
  },
  {
   "cell_type": "markdown",
   "id": "94a43f66",
   "metadata": {},
   "source": [
    "# Module Creation"
   ]
  },
  {
   "cell_type": "raw",
   "id": "32626fa7",
   "metadata": {},
   "source": [
    "Create a .py file.\n",
    "Inside that define a function.\n",
    "Create another file.\n",
    "Inside that import module_module name.\n",
    "Call the function here "
   ]
  },
  {
   "cell_type": "markdown",
   "id": "33594fd2",
   "metadata": {},
   "source": [
    "# User input"
   ]
  },
  {
   "cell_type": "code",
   "execution_count": 76,
   "id": "f09fe160",
   "metadata": {},
   "outputs": [
    {
     "name": "stdout",
     "output_type": "stream",
     "text": [
      "Enter name : prartha\n",
      "Enter password : 123\n"
     ]
    }
   ],
   "source": [
    "name=input(\"Enter name : \")\n",
    "password=input(\"Enter password : \")"
   ]
  },
  {
   "cell_type": "code",
   "execution_count": 77,
   "id": "1614f040",
   "metadata": {},
   "outputs": [
    {
     "name": "stdout",
     "output_type": "stream",
     "text": [
      "NAME     :  prartha\n",
      "PASSWORD :  123\n"
     ]
    }
   ],
   "source": [
    "print(\"NAME     : \",name)\n",
    "print(\"PASSWORD : \",password)"
   ]
  },
  {
   "cell_type": "code",
   "execution_count": 78,
   "id": "b9f7c36c",
   "metadata": {},
   "outputs": [
    {
     "name": "stdout",
     "output_type": "stream",
     "text": [
      "Enter number 1 : 23\n",
      "Enter number 2 : 22\n",
      "2322\n"
     ]
    }
   ],
   "source": [
    "num1=input(\"Enter number 1 : \")\n",
    "num2=input(\"Enter number 2 : \")\n",
    "sum=num1+num2\n",
    "print(sum)"
   ]
  },
  {
   "cell_type": "code",
   "execution_count": 79,
   "id": "279c7da8",
   "metadata": {},
   "outputs": [
    {
     "name": "stdout",
     "output_type": "stream",
     "text": [
      "Enter number 1 : 33\n",
      "Enter number 2 : 22\n",
      "55\n"
     ]
    }
   ],
   "source": [
    "num1=int(input(\"Enter number 1 : \"))\n",
    "num2=int(input(\"Enter number 2 : \"))\n",
    "sum=num1+num2\n",
    "print(sum)"
   ]
  },
  {
   "cell_type": "code",
   "execution_count": 80,
   "id": "da91cfca",
   "metadata": {},
   "outputs": [
    {
     "name": "stdout",
     "output_type": "stream",
     "text": [
      "Enter number 1 : 3.33\n",
      "Enter number 2 : 2.43\n",
      "5.76\n"
     ]
    }
   ],
   "source": [
    "num1=float(input(\"Enter number 1 : \"))\n",
    "num2=float(input(\"Enter number 2 : \"))\n",
    "sum=num1+num2\n",
    "print(sum)"
   ]
  },
  {
   "cell_type": "markdown",
   "id": "68224a19",
   "metadata": {},
   "source": [
    "# File Handling"
   ]
  },
  {
   "cell_type": "code",
   "execution_count": 81,
   "id": "c943ddc9",
   "metadata": {},
   "outputs": [],
   "source": [
    "# creating new file\n",
    "# if we need to create the file oyt side this folder specify the location along with the file name\n",
    "\n",
    "f = open(\"Sample.txt\",\"w\")\n"
   ]
  },
  {
   "cell_type": "code",
   "execution_count": 82,
   "id": "7e41ba4f",
   "metadata": {},
   "outputs": [],
   "source": [
    "# write to file\n",
    "f.write(\"leraning file handling in python \\n\")\n",
    "\n",
    "f.close()"
   ]
  },
  {
   "cell_type": "code",
   "execution_count": 83,
   "id": "4dbced03",
   "metadata": {},
   "outputs": [
    {
     "name": "stdout",
     "output_type": "stream",
     "text": [
      "leraning file handling in python \n",
      "\n"
     ]
    }
   ],
   "source": [
    "f = open(\"Sample.txt\",\"r\")\n",
    "read=f.read()\n",
    "\n",
    "print(read)"
   ]
  },
  {
   "cell_type": "code",
   "execution_count": null,
   "id": "4bfb6c36",
   "metadata": {},
   "outputs": [],
   "source": []
  }
 ],
 "metadata": {
  "kernelspec": {
   "display_name": "Python 3 (ipykernel)",
   "language": "python",
   "name": "python3"
  },
  "language_info": {
   "codemirror_mode": {
    "name": "ipython",
    "version": 3
   },
   "file_extension": ".py",
   "mimetype": "text/x-python",
   "name": "python",
   "nbconvert_exporter": "python",
   "pygments_lexer": "ipython3",
   "version": "3.9.12"
  }
 },
 "nbformat": 4,
 "nbformat_minor": 5
}
